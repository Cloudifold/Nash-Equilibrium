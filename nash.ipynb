{
 "cells": [
  {
   "cell_type": "code",
   "execution_count": 1,
   "id": "219b65fe-df0c-42f6-86b7-b06927bacf3d",
   "metadata": {},
   "outputs": [],
   "source": [
    "import numpy as np\n",
    "import matplotlib.pylab as plt"
   ]
  },
  {
   "cell_type": "code",
   "execution_count": 2,
   "id": "8644c601-f420-43cc-b5e2-3988ad3a4c1a",
   "metadata": {},
   "outputs": [
    {
     "name": "stdout",
     "output_type": "stream",
     "text": [
      "(2, 3, 4, 5, 6)\n"
     ]
    }
   ],
   "source": [
    "N_agents = 2\n",
    "N_actions = 3\n",
    "matrix_shape = (2,3,4,5,6)\n",
    "print(matrix_shape)\n",
    "payoff_matrix_shape = tuple([N_actions for i in range(N_agents)] + [N_agents])\n",
    "payoff_matrix = np.reshape(np.array([ 3,  8,  4,  0,  5,  3,  1, -3,  9,  4,  8,  5,  4,  7,  2,  6,  2, 9]),(3,3,2))\n",
    "payoff_matrix = payoff_matrix.transpose(1, 0, 2)\n",
    "def relu(x):\n",
    "    return np.maximum(0, x)\n",
    "# set payoff_matrix:\n",
    "matrix = np.random.normal(1, 4.5, size=matrix_shape)"
   ]
  },
  {
   "cell_type": "code",
   "execution_count": 3,
   "id": "786f5f09-e4bb-474c-983c-925956dc44f1",
   "metadata": {},
   "outputs": [
    {
     "data": {
      "text/plain": [
       "array([-2.8554923 ,  3.31293776,  2.71467303, -1.77834912])"
      ]
     },
     "execution_count": 3,
     "metadata": {},
     "output_type": "execute_result"
    }
   ],
   "source": [
    "matrix[(1,2,slice(None),4,5)]"
   ]
  },
  {
   "cell_type": "code",
   "execution_count": 4,
   "id": "58bc4987-0520-4cb8-8ad5-0e7446114672",
   "metadata": {},
   "outputs": [],
   "source": [
    "payoff_matrix = np.random.normal(1, 4.5, size=payoff_matrix_shape)"
   ]
  },
  {
   "cell_type": "code",
   "execution_count": 5,
   "id": "6d495056-9d64-4856-81a7-397b12b8e839",
   "metadata": {},
   "outputs": [],
   "source": [
    "def normalize_per_row(matrix):\n",
    "    N, M = matrix.shape\n",
    "    matrix[:] = relu(matrix)\n",
    "    for i in range(N):\n",
    "        total = np.sum(matrix[i])\n",
    "        if total== 0:\n",
    "            matirx[i][0] = 1\n",
    "        else:\n",
    "            matrix[i] = matrix[i]/total"
   ]
  },
  {
   "cell_type": "code",
   "execution_count": 6,
   "id": "bfd588f7-e433-481e-94c1-bde3fd9613ef",
   "metadata": {},
   "outputs": [],
   "source": [
    "global strategies_matrix \n",
    "strategies_matrix = np.ones((N_agents, N_actions))/N_actions"
   ]
  },
  {
   "cell_type": "code",
   "execution_count": 7,
   "id": "5ba11393-19d0-4098-a96c-5028fc6e2603",
   "metadata": {},
   "outputs": [],
   "source": [
    "def project_grad(g):\n",
    "  return g - g.sum() / g.size"
   ]
  },
  {
   "cell_type": "code",
   "execution_count": 8,
   "id": "6efb3bbf-e2c4-4a3c-8ca1-429cbf3ebb44",
   "metadata": {},
   "outputs": [],
   "source": [
    "histories_matrix = np.zeros_like(strategies_matrix)\n",
    "\n",
    "grad_histories =  np.zeros_like(histories_matrix)\n",
    "\n",
    "grad_strategies = np.zeros_like(strategies_matrix)\n",
    "\n",
    "other_player_fx = np.zeros_like(strategies_matrix)\n",
    "\n",
    "reg_exp = np.zeros(N_agents)\n",
    "\n",
    "exp_thresh = 0.01\n",
    "\n",
    "lr_strategy = 0.001\n",
    "\n",
    "lr_history = 0.02\n",
    "\n",
    "anneal_steps = 0\n",
    "\n",
    "\n",
    "from scipy import special"
   ]
  },
  {
   "cell_type": "code",
   "execution_count": 15,
   "id": "3b9cb920-1397-41aa-94f4-a9bb2a670485",
   "metadata": {},
   "outputs": [],
   "source": [
    "# take an agent's action: np.random.choice(N_actions, p=strategies_matrix[agent])\n",
    "\n",
    "\n",
    "temp = 100\n",
    "def single_iter(t,strategies_matrix,histories_matrix,grad_histories,grad_strategies,other_player_fx,reg_exp,temp,anneal_steps,lr_history,lr_strategy,exp_thresh):\n",
    "    if t%1000 == 0:\n",
    "        print(t)\n",
    "    actions = np.array([np.random.choice(N_actions, p=strategies_matrix[agent]) for agent in range(N_agents)])\n",
    "    for i in range(N_agents):\n",
    "        nabla_i = np.zeros_like(strategies_matrix[i])\n",
    "        for j in range(N_agents):\n",
    "            if i == j:\n",
    "                continue\n",
    "                \n",
    "            actions_with_holes = list(actions.copy()) + [i]\n",
    "            actions_with_holes[i] = slice(None)\n",
    "            actions_with_holes[j] = slice(None)\n",
    "            actions_with_holes = tuple(actions_with_holes)\n",
    "            hess_i_ij = payoff_matrix[actions_with_holes]\n",
    "            nabla_ij = hess_i_ij.dot(strategies_matrix[i])\n",
    "            nabla_i += nabla_ij/ float(N_agents - 1)\n",
    "        grad_histories[i][:] = histories_matrix[i][:] - nabla_i\n",
    "        \n",
    "        br_i = special.softmax(histories_matrix[i] / temp)\n",
    "        br_i_mat = (np.diag(br_i) - np.outer(br_i, br_i)) / temp\n",
    "        br_i_strategies_gradient = nabla_i - temp * (np.log(br_i) + 1)\n",
    "\n",
    "        strategies_gradient_i = nabla_i - temp * (np.log(strategies_matrix[i] + 0.0001) + 1)\n",
    "\n",
    "        other_player_fx[i][:] = (br_i - strategies_matrix[i]) + br_i_mat.dot(br_i_strategies_gradient)\n",
    "\n",
    "        entr_br_i = temp * special.entr(br_i).sum()\n",
    "        entr_strategies_i = temp* special.entr(strategies_matrix[i]).sum()\n",
    "\n",
    "        reg_exp[i] = (histories_matrix[i].dot(br_i - strategies_matrix[i]) + entr_br_i - entr_strategies_i)\n",
    "\n",
    "        grad_strategies[i][:] -= strategies_gradient_i\n",
    "        for j in range(N_agents):\n",
    "            if i == j:\n",
    "                continue\n",
    "                \n",
    "            actions_with_holes = list(actions.copy()) + [j]\n",
    "            actions_with_holes[i] = slice(None)\n",
    "            actions_with_holes[j] = slice(None)\n",
    "            actions_with_holes = tuple(actions_with_holes)\n",
    "            hess_j_ij = payoff_matrix[actions_with_holes]\n",
    "            grad_strategies [i][:]  += hess_j_ij.dot(other_player_fx[j])\n",
    "            \n",
    "        grad_strategies[i][:] = project_grad(grad_strategies[i][:])\n",
    "        if np.isnan(grad_strategies).any():\n",
    "            print(\"nanananan!\")\n",
    "    reg_exp_mean = np.mean(reg_exp)\n",
    "    if (reg_exp_mean < exp_thresh) and (anneal_steps >= 1/lr_history):\n",
    "        temp = np.clip(temp/ 2., 0., 1.)\n",
    "        d_anneal_steps = -anneal_steps\n",
    "    else:\n",
    "        d_anneal_steps = 1\n",
    "\n",
    "    #update\n",
    "    lr_h = np.clip(1 / float(t + 1), lr_history, np.inf)\n",
    "    anneal_steps += d_anneal_steps \n",
    "    histories_matrix -= lr_h*grad_histories\n",
    "    strategies_matrix[:] = np.clip(strategies_matrix, 0.000001, np.inf) - lr_strategy * grad_strategies\n",
    "    normalize_per_row(strategies_matrix)\n",
    "    \n"
   ]
  },
  {
   "cell_type": "code",
   "execution_count": 16,
   "id": "2e5b51de-bd3f-4870-abce-fbc5173b1ad3",
   "metadata": {},
   "outputs": [
    {
     "name": "stdout",
     "output_type": "stream",
     "text": [
      "100000\n",
      "101000\n",
      "102000\n",
      "103000\n",
      "104000\n",
      "105000\n",
      "106000\n",
      "107000\n",
      "108000\n",
      "109000\n",
      "110000\n",
      "111000\n",
      "112000\n",
      "113000\n",
      "114000\n",
      "115000\n",
      "116000\n",
      "117000\n",
      "118000\n",
      "119000\n",
      "120000\n",
      "121000\n",
      "122000\n",
      "123000\n",
      "124000\n",
      "125000\n",
      "126000\n",
      "127000\n",
      "128000\n",
      "129000\n",
      "130000\n",
      "131000\n",
      "132000\n",
      "133000\n",
      "134000\n",
      "135000\n",
      "136000\n",
      "137000\n",
      "138000\n",
      "139000\n",
      "140000\n",
      "141000\n",
      "142000\n",
      "143000\n",
      "144000\n",
      "145000\n",
      "146000\n",
      "147000\n",
      "148000\n",
      "149000\n",
      "150000\n",
      "151000\n",
      "152000\n",
      "153000\n",
      "154000\n",
      "155000\n",
      "156000\n",
      "157000\n",
      "158000\n",
      "159000\n",
      "160000\n",
      "161000\n",
      "162000\n",
      "163000\n",
      "164000\n",
      "165000\n",
      "166000\n",
      "167000\n",
      "168000\n",
      "169000\n",
      "170000\n",
      "171000\n",
      "172000\n",
      "173000\n",
      "174000\n",
      "175000\n",
      "176000\n",
      "177000\n",
      "178000\n",
      "179000\n",
      "180000\n",
      "181000\n",
      "182000\n",
      "183000\n",
      "184000\n",
      "185000\n",
      "186000\n",
      "187000\n",
      "188000\n",
      "189000\n",
      "190000\n",
      "191000\n",
      "192000\n",
      "193000\n",
      "194000\n",
      "195000\n",
      "196000\n",
      "197000\n",
      "198000\n",
      "199000\n",
      "[[0.25902862 0.         0.74097138]\n",
      " [0.25329985 0.55914656 0.18755358]]\n"
     ]
    }
   ],
   "source": [
    "for i in range(100000, 200000):\n",
    "    single_iter(i,strategies_matrix,histories_matrix,grad_histories,grad_strategies,other_player_fx,reg_exp,temp,anneal_steps,lr_history,lr_strategy,exp_thresh)\n",
    "\n",
    "print(strategies_matrix)"
   ]
  },
  {
   "cell_type": "code",
   "execution_count": null,
   "id": "c9ce370a-4d5b-438e-bc62-efa9e1c71546",
   "metadata": {},
   "outputs": [],
   "source": []
  },
  {
   "cell_type": "code",
   "execution_count": null,
   "id": "2ae4e490-8c3c-4458-ba07-68a684e7a89c",
   "metadata": {},
   "outputs": [],
   "source": []
  },
  {
   "cell_type": "code",
   "execution_count": null,
   "id": "58a82509-58cf-49d6-a031-e841c96d6a8f",
   "metadata": {},
   "outputs": [],
   "source": []
  }
 ],
 "metadata": {
  "kernelspec": {
   "display_name": "Python 3 (ipykernel)",
   "language": "python",
   "name": "python3"
  },
  "language_info": {
   "codemirror_mode": {
    "name": "ipython",
    "version": 3
   },
   "file_extension": ".py",
   "mimetype": "text/x-python",
   "name": "python",
   "nbconvert_exporter": "python",
   "pygments_lexer": "ipython3",
   "version": "3.12.4"
  }
 },
 "nbformat": 4,
 "nbformat_minor": 5
}
